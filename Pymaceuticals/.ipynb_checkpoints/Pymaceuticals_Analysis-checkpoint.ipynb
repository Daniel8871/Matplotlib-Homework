{
 "cells": [
  {
   "cell_type": "markdown",
   "metadata": {},
   "source": [
    "## Observations and Insights "
   ]
  },
  {
   "cell_type": "markdown",
   "metadata": {},
   "source": []
  },
  {
   "cell_type": "code",
   "execution_count": null,
   "metadata": {},
   "outputs": [],
   "source": [
    "# Dependencies and Setup\n",
    "import matplotlib.pyplot as plt\n",
    "import pandas as pd\n",
    "import scipy.stats as st\n",
    "\n",
    "# Study data files\n",
    "mouse_metadata_path = \"data/Mouse_metadata.csv\"\n",
    "study_results_path = \"data/Study_results.csv\"\n",
    "\n",
    "# Read the mouse data and the study results\n",
    "mouse_metadata = pd.read_csv(mouse_metadata_path)\n",
    "study_results = pd.read_csv(study_results_path)\n",
    "\n",
    "mouse_metadata.head()"
   ]
  },
  {
   "cell_type": "code",
   "execution_count": null,
   "metadata": {},
   "outputs": [],
   "source": [
    "# Combine the data into a single dataset\n",
    "data_df=pd.merge(mouse_metadata,study_results, on=\"Mouse ID\")\n",
    "\n",
    "# Display the data table for preview\n",
    "data_df.head()"
   ]
  },
  {
   "cell_type": "code",
   "execution_count": null,
   "metadata": {},
   "outputs": [],
   "source": [
    "# Checking the number of mice.\n",
    "data_df['Mouse ID'].nunique()"
   ]
  },
  {
   "cell_type": "code",
   "execution_count": null,
   "metadata": {},
   "outputs": [],
   "source": [
    "timepoints = list(data_df['Timepoint'].unique())\n",
    "timepoints"
   ]
  },
  {
   "cell_type": "code",
   "execution_count": null,
   "metadata": {},
   "outputs": [],
   "source": [
    "mice = list(data_df['Mouse ID'].unique())\n",
    "mice[0]"
   ]
  },
  {
   "cell_type": "code",
   "execution_count": null,
   "metadata": {},
   "outputs": [],
   "source": [
    "# Getting the duplicate mice by ID number that shows up for Mouse ID and Timepoint. \n",
    "\n",
    "dup_find = data_df[['Mouse ID','Timepoint']].value_counts()>1\n",
    "\n",
    "dup_m = list()\n",
    "dup_t = list()\n",
    "\n",
    "for mouse in mice:\n",
    "    for time in timepoints:\n",
    "        try:\n",
    "            if dup_find[mouse,time]==True:\n",
    "                dup_m.append(mouse)\n",
    "                dup_t.append(time)\n",
    "        except:\n",
    "            pass\n",
    "        \n",
    "print(dup_m)\n",
    "print(dup_t)"
   ]
  },
  {
   "cell_type": "code",
   "execution_count": null,
   "metadata": {},
   "outputs": [],
   "source": [
    "# Optional: Get all the data for the duplicate mouse ID. \n",
    "\n",
    "dup_mouse = data_df.loc[data_df['Mouse ID']==dup_m[0],:].sort_values('Timepoint')\n",
    "dup_mouse"
   ]
  },
  {
   "cell_type": "code",
   "execution_count": null,
   "metadata": {},
   "outputs": [],
   "source": [
    "# Create a clean DataFrame by dropping the duplicate mouse by its ID.\n",
    "\n",
    "clean_df = data_df.loc[data_df['Mouse ID']!=dup_m[0],:]"
   ]
  },
  {
   "cell_type": "code",
   "execution_count": null,
   "metadata": {},
   "outputs": [],
   "source": [
    "# Checking the number of mice in the clean DataFrame.\n",
    "\n",
    "clean_df"
   ]
  },
  {
   "cell_type": "markdown",
   "metadata": {},
   "source": [
    "## Summary Statistics"
   ]
  },
  {
   "cell_type": "code",
   "execution_count": null,
   "metadata": {},
   "outputs": [],
   "source": [
    "regimen = list(clean_df['Drug Regimen'].unique())\n",
    "tumor_vols = dict()\n",
    "drug_stats = dict()\n",
    "stat_list = ['mean', 'median', 'var', 'std', 'sem']\n",
    "\n",
    "for drug in regimen:\n",
    "    \n",
    "    # Build a dictionary of tumor volumes for each drug\n",
    "    \n",
    "    tumor_vols[drug] = clean_df.loc[clean_df['Drug Regimen'] == drug, ['Tumor Volume (mm3)']]\n",
    "  \n",
    "    # Determine summary statistics of tumors for drug\n",
    "    \n",
    "    stats = [\n",
    "            tumor_vols[drug]['Tumor Volume (mm3)'].mean(),\n",
    "            tumor_vols[drug]['Tumor Volume (mm3)'].median(),\n",
    "            tumor_vols[drug]['Tumor Volume (mm3)'].var(),\n",
    "            tumor_vols[drug]['Tumor Volume (mm3)'].std(),\n",
    "            tumor_vols[drug]['Tumor Volume (mm3)'].sem()\n",
    "            ]  \n",
    "\n",
    "    drug_stats[drug] = pd.DataFrame(stats, index=[stat_list])\n"
   ]
  },
  {
   "cell_type": "code",
   "execution_count": null,
   "metadata": {},
   "outputs": [],
   "source": [
    "# Generate a summary statistics table of \n",
    "# mean, median, variance, standard deviation and SEM of the tumor volume for each regimen\n",
    "\n",
    "a,b,c,d,e,f,g,h,i,j = regimen\n",
    "\n",
    "x = a\n",
    "\n",
    "a_df = pd.DataFrame(drug_stats[x])\n",
    "a_df = a_df.set_axis([x], axis=1, inplace=False)\n",
    "\n",
    "# Duplicate dataframe to a new name for joining subsequent frames\n",
    "x_df = a_df\n",
    "a_df\n"
   ]
  },
  {
   "cell_type": "code",
   "execution_count": null,
   "metadata": {},
   "outputs": [],
   "source": [
    "# Generate a summary statistics table of \n",
    "# mean, median, variance, standard deviation, and SEM of the tumor volume for each regimen\n",
    "\n",
    "x = b\n",
    "\n",
    "# Building dataframe for next drug, with same a_df title\n",
    "a_df = pd.DataFrame(drug_stats[x])\n",
    "a_df = a_df.set_axis([x], axis=1, inplace=False)\n",
    "\n",
    "# Merging with growing summary dataframe\n",
    "x_df = x_df.merge(a_df,how='outer',left_index=True,right_index=True)\n",
    "x_df"
   ]
  },
  {
   "cell_type": "code",
   "execution_count": null,
   "metadata": {},
   "outputs": [],
   "source": [
    "# Generate a summary statistics table of \n",
    "# mean, median, variance, standard deviation, and SEM of the tumor volume for each regimen\n",
    "\n",
    "x = c\n",
    "\n",
    "# Building dataframe for next drug, with same a_df title\n",
    "a_df = pd.DataFrame(drug_stats[x])\n",
    "a_df = a_df.set_axis([x], axis=1, inplace=False)\n",
    "\n",
    "# Merging with growing summary dataframe\n",
    "x_df = x_df.merge(a_df,how='outer',left_index=True,right_index=True)\n",
    "x_df"
   ]
  },
  {
   "cell_type": "code",
   "execution_count": null,
   "metadata": {},
   "outputs": [],
   "source": [
    "# Generate a summary statistics table of \n",
    "# mean, median, variance, standard deviation, and SEM of the tumor volume for each regimen\n",
    "\n",
    "x = d\n",
    "\n",
    "# Building dataframe for next drug, with same a_df title\n",
    "a_df = pd.DataFrame(drug_stats[x])\n",
    "a_df = a_df.set_axis([x], axis=1, inplace=False)\n",
    "\n",
    "# Merging with growing summary dataframe\n",
    "x_df = x_df.merge(a_df,how='outer',left_index=True,right_index=True)\n",
    "x_df"
   ]
  },
  {
   "cell_type": "code",
   "execution_count": null,
   "metadata": {},
   "outputs": [],
   "source": [
    "# Generate a summary statistics table of \n",
    "# mean, median, variance, standard deviation, and SEM of the tumor volume for each regimen\n",
    "\n",
    "x = e\n",
    "\n",
    "# Building dataframe for next drug, with same a_df title\n",
    "a_df = pd.DataFrame(drug_stats[x])\n",
    "a_df = a_df.set_axis([x], axis=1, inplace=False)\n",
    "\n",
    "# Merging with growing summary dataframe\n",
    "x_df = x_df.merge(a_df,how='outer',left_index=True,right_index=True)\n",
    "x_df"
   ]
  },
  {
   "cell_type": "code",
   "execution_count": null,
   "metadata": {},
   "outputs": [],
   "source": [
    "# Generate a summary statistics table of \n",
    "# mean, median, variance, standard deviation, and SEM of the tumor volume for each regimen\n",
    "\n",
    "x = f\n",
    "\n",
    "# Building dataframe for next drug, with same a_df title\n",
    "a_df = pd.DataFrame(drug_stats[x])\n",
    "a_df = a_df.set_axis([x], axis=1, inplace=False)\n",
    "\n",
    "# Merging with growing summary dataframe\n",
    "x_df = x_df.merge(a_df,how='outer',left_index=True,right_index=True)\n",
    "x_df"
   ]
  },
  {
   "cell_type": "code",
   "execution_count": null,
   "metadata": {},
   "outputs": [],
   "source": [
    "# Generate a summary statistics table of \n",
    "# mean, median, variance, standard deviation, and SEM of the tumor volume for each regimen\n",
    "\n",
    "x = g\n",
    "\n",
    "# Building dataframe for next drug, with same a_df title\n",
    "a_df = pd.DataFrame(drug_stats[x])\n",
    "a_df = a_df.set_axis([x], axis=1, inplace=False)\n",
    "\n",
    "# Merging with growing summary dataframe\n",
    "x_df = x_df.merge(a_df,how='outer',left_index=True,right_index=True)\n",
    "x_df"
   ]
  },
  {
   "cell_type": "code",
   "execution_count": null,
   "metadata": {},
   "outputs": [],
   "source": [
    "# Generate a summary statistics table of \n",
    "# mean, median, variance, standard deviation, and SEM of the tumor volume for each regimen\n",
    "\n",
    "x = h\n",
    "\n",
    "# Building dataframe for next drug, with same a_df title\n",
    "a_df = pd.DataFrame(drug_stats[x])\n",
    "a_df = a_df.set_axis([x], axis=1, inplace=False)\n",
    "\n",
    "# Merging with growing summary dataframe\n",
    "x_df = x_df.merge(a_df,how='outer',left_index=True,right_index=True)\n",
    "x_df"
   ]
  },
  {
   "cell_type": "code",
   "execution_count": null,
   "metadata": {},
   "outputs": [],
   "source": [
    "# Generate a summary statistics table of \n",
    "# mean, median, variance, standard deviation, and SEM of the tumor volume for each regimen\n",
    "\n",
    "x = i\n",
    "\n",
    "# Building dataframe for next drug, with same a_df title\n",
    "a_df = pd.DataFrame(drug_stats[x])\n",
    "a_df = a_df.set_axis([x], axis=1, inplace=False)\n",
    "\n",
    "# Merging with growing summary dataframe\n",
    "x_df = x_df.merge(a_df,how='outer',left_index=True,right_index=True)\n",
    "x_df"
   ]
  },
  {
   "cell_type": "code",
   "execution_count": null,
   "metadata": {},
   "outputs": [],
   "source": [
    "# Generate a summary statistics table of \n",
    "# mean, median, variance, standard deviation, and SEM of the tumor volume for each regimen\n",
    "\n",
    "x = j\n",
    "\n",
    "# Building dataframe for next drug, with same a_df title\n",
    "a_df = pd.DataFrame(drug_stats[x])\n",
    "a_df = a_df.set_axis([x], axis=1, inplace=False)\n",
    "\n",
    "# Merging with growing summary dataframe\n",
    "x_df = x_df.merge(a_df,how='outer',left_index=True,right_index=True)\n",
    "x_df"
   ]
  },
  {
   "cell_type": "code",
   "execution_count": null,
   "metadata": {},
   "outputs": [],
   "source": [
    "# Use groupby and summary statistical methods to calculate the following properties of each drug regimen: \n",
    "# mean, median, variance, standard deviation, and SEM of the tumor volume. \n",
    "# Assemble the resulting series into a single summary dataframe.\n",
    "\n",
    "clean_group = clean_df.groupby('Drug Regimen')\n",
    "\n",
    "\n",
    "s1 = clean_group['Tumor Volume (mm3)'].mean()\n",
    "s2 = clean_group['Tumor Volume (mm3)'].median()\n",
    "s3 = clean_group['Tumor Volume (mm3)'].var()\n",
    "s4 = clean_group['Tumor Volume (mm3)'].std()\n",
    "s5 = clean_group['Tumor Volume (mm3)'].sem()\n",
    "\n",
    "summary_df = pd.concat([s1,s2,s3,s4,s5],axis=1)\n",
    "summary_df.columns = ['Tumor Vol (mm3) - Mean', 'Tumor Vol (mm3) - Median',\n",
    "                      'Tumor Volume (mm3) - Variance', 'Tumor Volume (mm3) - STD',\n",
    "                      'Tumor Volume (mm3) - SEM']\n",
    "summary_df"
   ]
  },
  {
   "cell_type": "code",
   "execution_count": null,
   "metadata": {},
   "outputs": [],
   "source": [
    "# Generate a summary statistics table of \n",
    "# mean, median, variance, standard deviation, and SEM of the tumor volume for each regimen\n",
    "\n",
    "# Using the aggregation method, produce the same summary statistics in a single line\n",
    "\n",
    "clean_group = clean_df.groupby('Drug Regimen')\n",
    "\n",
    "stat = ['mean', 'median', 'var', 'std', 'sem']\n",
    "\n",
    "summary_cleantable = clean_group['Tumor Volume (mm3)'].agg(stat)\n",
    "\n",
    "summary_cleantable.columns = ['Tumor Vol (mm3) - Mean', 'Tumor Vol (mm3) - Median',\n",
    "                      'Tumor Volume (mm3) - Variance', 'Tumor Volume (mm3) - STD',\n",
    "                      'Tumor Volume (mm3) - SEM']\n",
    "summary_cleantable"
   ]
  },
  {
   "cell_type": "markdown",
   "metadata": {},
   "source": [
    "## Bar and Pie Charts"
   ]
  },
  {
   "cell_type": "code",
   "execution_count": null,
   "metadata": {},
   "outputs": [],
   "source": [
    "# Generate a bar plot showing the total number of timepoints for all mice tested for each drug regimen using Pandas.\n",
    "# import numpy as np\n",
    "\n",
    "cols = clean_df.columns"
   ]
  },
  {
   "cell_type": "code",
   "execution_count": null,
   "metadata": {},
   "outputs": [],
   "source": [
    "# Groupby Drug Regimen\n",
    "mouse_g = clean_df.groupby('Drug Regimen')\n",
    "\n",
    "# Count timpoints per Drug Regimen\n",
    "count   = mouse_g['Timepoint'].count()\n",
    "\n",
    "# Convert to dataframe, sort, and reset index\n",
    "count_df = pd.DataFrame(count).sort_values(by='Timepoint',ascending=False)\n",
    "count_df2 = count_df.reset_index()\n",
    "count_df2"
   ]
  },
  {
   "cell_type": "code",
   "execution_count": null,
   "metadata": {},
   "outputs": [],
   "source": [
    "count_df2.plot.bar(x='Drug Regimen', y='Timepoint', rot=0, width = .8, color = 'g',\n",
    "                    figsize=(10, 3), title = \"Number of Timepoints Tested for Each Drug Regimen\",\n",
    "                   legend = False)"
   ]
  },
  {
   "cell_type": "code",
   "execution_count": null,
   "metadata": {},
   "outputs": [],
   "source": [
    "# Generate a bar plot showing the total number of timepoints for all mice tested for each drug regimen using pyplot.\n",
    "import numpy as np\n",
    "x_axis = np.arange(len(count_df2))\n",
    "tick_locations = [value for value in x_axis]\n",
    "\n",
    "plt.figure(figsize=(10,3))\n",
    "plt.bar(x_axis, count_df2['Timepoint'], color='g', alpha=0.5, align=\"center\")\n",
    "plt.xticks(tick_locations, count_df2['Drug Regimen'])\n",
    "plt.xlim(-.5, len(x_axis)-.5)\n",
    "plt.title(\"Number of Timepoints Tested for Each Drug Regimen\")\n",
    "plt.xlabel(\"Drug Regimen\")"
   ]
  },
  {
   "cell_type": "code",
   "execution_count": null,
   "metadata": {},
   "outputs": [],
   "source": [
    "# Generate a pie plot showing the distribution of female versus male mice using Pandas\n",
    "\n",
    "sex_g = clean_df.groupby('Sex').count()\n",
    "sex_df = pd.DataFrame(sex_g)\n",
    "sex_df = sex_df.rename(columns = {'Timepoint':'Sex'})\n",
    "sex_df.plot.pie(y = 'Sex', legend = False, title = \"Female vs. Male Representation\", ylabel=' ',autopct='%1.1f%%')"
   ]
  },
  {
   "cell_type": "code",
   "execution_count": null,
   "metadata": {},
   "outputs": [],
   "source": [
    "# Generate a pie plot showing the distribution of female versus male mice using pyplot\n",
    "\n",
    "# Labels for the sections of pie chart\n",
    "labels = ['Females','Males']\n",
    "\n",
    "# The values of each section of the pie chart\n",
    "sizes = [sex_df['Sex'].iloc[0],sex_df['Sex'].iloc[1]]\n",
    "\n",
    "# The colors of each section of the pie chart\n",
    "colors = [\"blue\",\"orange\"]\n",
    "\n",
    "plt.figure()\n",
    "plt.pie(sizes, labels=labels, colors=colors,autopct='%1.1f%%')\n",
    "plt.title(\"Female vs. Male Representation\")"
   ]
  },
  {
   "cell_type": "markdown",
   "metadata": {},
   "source": [
    "# Quartiles, Outliers and Boxplots"
   ]
  },
  {
   "cell_type": "code",
   "execution_count": null,
   "metadata": {},
   "outputs": [],
   "source": [
    "# Calculate the final tumor volume of each mouse across four of the treatment regimens:  \n",
    "# Capomulin, Ramicane, Infubinol, and Ceftamin\n",
    "\n",
    "# Start by getting the last (greatest) timepoint for each mouse\n",
    "# Group dataframe by mouse and apply function to find max timepoint (tp) in dataframe\n",
    "\n",
    "timepoint_group = clean_df.groupby('Mouse ID')\n",
    "\n",
    "# Find max\n",
    "\n",
    "timepoint_max = timepoint_group['Timepoint'].max()\n",
    "\n",
    "\n",
    "# Create dataframe\n",
    "\n",
    "timepoint_df = pd.DataFrame(timepoint_max)\n",
    "timepoint_df = timepoint_df.reset_index()\n"
   ]
  },
  {
   "cell_type": "code",
   "execution_count": null,
   "metadata": {},
   "outputs": [],
   "source": [
    "# Merge this group df with the original dataframe to get the tumor volume at the last timepoint\n",
    "\n",
    "max_df = timepoint_df.merge(clean_df, how='left', on=['Mouse ID', 'Timepoint'])\n",
    "max_df"
   ]
  },
  {
   "cell_type": "code",
   "execution_count": null,
   "metadata": {},
   "outputs": [],
   "source": [
    "# Put treatments into a list for for loop \n",
    "# (and later for plot labels)\n",
    "core = ['Capomulin', 'Ramicane', 'Infubinol', 'Ceftamin']\n",
    "\n",
    "# Create empty list to fill with tumor vol data (for plotting)\n",
    "vol_dict = dict()\n",
    "vol_list = list()\n",
    "\n",
    "for drug in core:\n",
    "    df = max_df.loc[max_df['Drug Regimen'] == drug,['Tumor Volume (mm3)']]\n",
    "    vol_list = df['Tumor Volume (mm3)'].tolist()\n",
    "    vol_dict[drug] = vol_list\n",
    "vol_df = pd.DataFrame(vol_dict)"
   ]
  },
  {
   "cell_type": "code",
   "execution_count": null,
   "metadata": {},
   "outputs": [],
   "source": [
    "# Calculate the IQR and quantitatively determine if there are any potential outliers. \n",
    "# Build quartiles\n",
    "lower_bound_dict = dict()\n",
    "upper_bound_dict = dict()\n",
    "\n",
    "for drug in core:\n",
    "    quartiles = vol_df[drug].quantile([0.25,0.50,0.75])\n",
    "    lowerq = quartiles[0.25]\n",
    "    upperq = quartiles[0.75]\n",
    "    iqr = upperq-lowerq\n",
    "    print('*******************************************')\n",
    "    print(f'The IQR Value for {drug} is {iqr:.2f}.')\n",
    "\n",
    "    # Set bounds\n",
    "    lower_bound = lowerq - (1.5*iqr)\n",
    "    upper_bound = upperq + (1.5*iqr)\n",
    "    \n",
    "    #building dictionary for dataframe\n",
    "    lower_bound_dict[drug] = lower_bound\n",
    "    upper_bound_dict[drug] = upper_bound\n",
    "\n",
    "    outliers_hi = vol_df.loc[vol_df[drug] > upper_bound,:]\n",
    "    outliers_lo = vol_df.loc[vol_df[drug] < lower_bound,:]\n",
    "    outliers = pd.concat([outliers_lo[drug],outliers_hi[drug]])\n",
    "    print(f'There are {len(outliers)} outliers in {drug} dataset.')\n",
    "    print('*******************************************')"
   ]
  },
  {
   "cell_type": "code",
   "execution_count": null,
   "metadata": {},
   "outputs": [],
   "source": [
    "# Build dataframe for potential outliers \n",
    "# PART 1\n",
    "\n",
    "filter_df = max_df[max_df['Drug Regimen'] == core[0]]\n",
    "\n",
    "outliers_hi0 = filter_df.loc[filter_df['Tumor Volume (mm3)']\n",
    "                            > upper_bound_dict[core[0]]]\n",
    "\n",
    "outliers_lo0 = filter_df.loc[filter_df['Tumor Volume (mm3)']\n",
    "                            < lower_bound_dict[core[0]]]"
   ]
  },
  {
   "cell_type": "code",
   "execution_count": null,
   "metadata": {},
   "outputs": [],
   "source": [
    "# Build dataframe for potential outliers\n",
    "# PART 2\n",
    "\n",
    "filter_df = max_df[max_df['Drug Regimen'] == core[1]]\n",
    "\n",
    "outliers_hi1 = filter_df.loc[filter_df['Tumor Volume (mm3)']\n",
    "                            > upper_bound_dict[core[1]]]\n",
    "\n",
    "outliers_lo1 = filter_df.loc[filter_df['Tumor Volume (mm3)']\n",
    "                            < lower_bound_dict[core[1]]]"
   ]
  },
  {
   "cell_type": "code",
   "execution_count": null,
   "metadata": {},
   "outputs": [],
   "source": [
    "# Build dataframe for potential outliers\n",
    "# PART 3\n",
    "\n",
    "filter_df = max_df[max_df['Drug Regimen'] == core[2]]\n",
    "\n",
    "outliers_hi2 = filter_df.loc[filter_df['Tumor Volume (mm3)']\n",
    "                            > upper_bound_dict[core[2]]]\n",
    "\n",
    "outliers_lo2 = filter_df.loc[filter_df['Tumor Volume (mm3)']\n",
    "                            < lower_bound_dict[core[2]]]"
   ]
  },
  {
   "cell_type": "code",
   "execution_count": null,
   "metadata": {},
   "outputs": [],
   "source": [
    "# Build dataframe for potential outliers\n",
    "# PART 4\n",
    "\n",
    "filter_df = max_df[max_df['Drug Regimen'] == core[3]]\n",
    "\n",
    "outliers_hi3 = filter_df.loc[filter_df['Tumor Volume (mm3)']\n",
    "                            > upper_bound_dict[core[3]]]\n",
    "\n",
    "outliers_lo3 = filter_df.loc[filter_df['Tumor Volume (mm3)']\n",
    "                            < lower_bound_dict[core[3]]]"
   ]
  },
  {
   "cell_type": "code",
   "execution_count": null,
   "metadata": {},
   "outputs": [],
   "source": [
    "# Assemble\n",
    "\n",
    "outliers_hi = pd.concat([outliers_hi0,outliers_hi1,outliers_hi2,outliers_hi3])\n",
    "outliers_lo = pd.concat([outliers_lo0,outliers_lo1,outliers_lo2,outliers_lo3])"
   ]
  },
  {
   "cell_type": "code",
   "execution_count": null,
   "metadata": {},
   "outputs": [],
   "source": [
    "# High end outliers\n",
    "outliers_hi"
   ]
  },
  {
   "cell_type": "code",
   "execution_count": null,
   "metadata": {},
   "outputs": [],
   "source": [
    "# Low end outliers\n",
    "\n",
    "outliers_lo"
   ]
  },
  {
   "cell_type": "code",
   "execution_count": null,
   "metadata": {},
   "outputs": [],
   "source": [
    "    # Locate the rows which contain mice on each drug and get the tumor volumes\n",
    "\n",
    "Capomulin_vol_df = max_df.loc[max_df['Drug Regimen'] == core[0],['Drug Regimen','Tumor Volume (mm3)']]\n",
    "Ramicane_vol_df = max_df.loc[max_df['Drug Regimen'] == core[1],['Drug Regimen','Tumor Volume (mm3)']]\n",
    "Infubinol_vol_df = max_df.loc[max_df['Drug Regimen'] == core[2],['Drug Regimen','Tumor Volume (mm3)']]\n",
    "Ceftamin_vol_df = max_df.loc[max_df['Drug Regimen'] == core[3],['Drug Regimen','Tumor Volume (mm3)']]\n",
    "\n",
    "    # add subset \n",
    "    \n",
    "vol_subset = pd.concat([Capomulin_vol_df,Ramicane_vol_df,Infubinol_vol_df,Ceftamin_vol_df])\n",
    "vol_subset"
   ]
  },
  {
   "cell_type": "code",
   "execution_count": null,
   "metadata": {},
   "outputs": [],
   "source": [
    "    # Determine outliers using lower bounds\n",
    "\n",
    "Capomulin_lb = Capomulin_vol_df.loc[Capomulin_vol_df['Tumor Volume (mm3)'] < lower_bound_dict[core[0]]]\n",
    "Ramicane_lb = Ramicane_vol_df.loc[Ramicane_vol_df['Tumor Volume (mm3)'] < lower_bound_dict[core[1]]]\n",
    "Infubinol_lb = Infubinol_vol_df.loc[Infubinol_vol_df['Tumor Volume (mm3)'] < lower_bound_dict[core[2]]]\n",
    "Ceftamin_lb =  Ceftamin_vol_df.loc[Ceftamin_vol_df['Tumor Volume (mm3)'] < lower_bound_dict[core[3]]]\n",
    "\n",
    "lower_bound_subset = pd.concat([Capomulin_lb,Ramicane_lb,Infubinol_lb,Ceftamin_lb])\n",
    "lower_bound_subset"
   ]
  },
  {
   "cell_type": "code",
   "execution_count": null,
   "metadata": {},
   "outputs": [],
   "source": [
    "    # Determine outliers using upper bounds\n",
    "\n",
    "Capomulin_ub = Capomulin_vol_df.loc[Capomulin_vol_df['Tumor Volume (mm3)'] > upper_bound_dict[core[0]]]\n",
    "Ramicane_ub = Ramicane_vol_df.loc[Ramicane_vol_df['Tumor Volume (mm3)'] > upper_bound_dict[core[1]]]\n",
    "Infubinol_ub = Infubinol_vol_df.loc[Infubinol_vol_df['Tumor Volume (mm3)'] > upper_bound_dict[core[2]]]\n",
    "Ceftamin_ub =  Ceftamin_vol_df.loc[Ceftamin_vol_df['Tumor Volume (mm3)'] > upper_bound_dict[core[3]]]\n",
    "\n",
    "upper_bound_subset = pd.concat([Capomulin_ub,Ramicane_ub,Infubinol_ub,Ceftamin_ub])\n",
    "upper_bound_subset"
   ]
  },
  {
   "cell_type": "code",
   "execution_count": null,
   "metadata": {},
   "outputs": [],
   "source": [
    "# Generate a box plot of the final tumor volume of each mouse across four regimens of interest\n",
    "\n",
    "fig, ax = plt.subplots()\n",
    "ax.set_title('Tumor Vol of Core Regimen')\n",
    "ax.set_ylim([20, 75])\n",
    "ax.set_ylabel('Tumor Volume (mm3)')\n",
    "\n",
    "vol_df.boxplot()"
   ]
  },
  {
   "cell_type": "markdown",
   "metadata": {},
   "source": [
    "## Line and Scatter Plots"
   ]
  },
  {
   "cell_type": "code",
   "execution_count": null,
   "metadata": {},
   "outputs": [],
   "source": [
    "# Generate a line plot of tumor volume vs. time point for a mouse treated with Capomulin\n",
    "\n",
    "Capomulin_df = clean_df[clean_df['Drug Regimen'] == 'Capomulin']\n",
    "mouse = Capomulin_df.iloc[0,0]\n",
    "mouse"
   ]
  },
  {
   "cell_type": "code",
   "execution_count": null,
   "metadata": {},
   "outputs": [],
   "source": [
    "mouse_df = Capomulin_df[Capomulin_df['Mouse ID'] == mouse]\n",
    "mouse_df.head()"
   ]
  },
  {
   "cell_type": "code",
   "execution_count": null,
   "metadata": {},
   "outputs": [],
   "source": [
    "timepoint = mouse_df['Timepoint']\n",
    "y_axis = mouse_df['Tumor Volume (mm3)']\n",
    "\n",
    "plt.title(f'Tumor Vol vs. Time for Mouse {mouse} Treated with Capomulin')\n",
    "plt.xlabel(\"Timepoint\")\n",
    "plt.ylabel(\"Tumor Volume (mm3)\")\n",
    "plt.plot(timepoint, y_axis)"
   ]
  },
  {
   "cell_type": "code",
   "execution_count": null,
   "metadata": {},
   "outputs": [],
   "source": [
    "# Generate a scatter plot of average tumor volume vs. mouse weight for the Capomulin regimen\n",
    "\n",
    "# Gather mean data\n",
    "\n",
    "Capomulin_mean = Capomulin_df.groupby('Mouse ID').mean()\n",
    "\n",
    "Capomulin_mean.head()"
   ]
  },
  {
   "cell_type": "code",
   "execution_count": null,
   "metadata": {},
   "outputs": [],
   "source": [
    "weight = Capomulin_mean['Weight (g)']\n",
    "avg_tumorvol = Capomulin_mean['Tumor Volume (mm3)']\n",
    "\n",
    "Title2 = 'average tumor volume vs. mouse weight for the Capomulin regimen'.title()\n",
    "plt.title(Title2)\n",
    "plt.xlabel(\"Weight of Mouse (g)\")\n",
    "plt.ylabel(\"Tumor Volume (mm3)\")\n",
    "plt.scatter(weight, avg_tumorvol, marker=\"o\", facecolors=\"red\", edgecolors=\"black\", alpha=0.75)\n",
    "plt.show()"
   ]
  },
  {
   "cell_type": "markdown",
   "metadata": {},
   "source": [
    "## Correlation and Regression"
   ]
  },
  {
   "cell_type": "code",
   "execution_count": null,
   "metadata": {},
   "outputs": [],
   "source": [
    "# Calculate the correlation coefficient and linear regression model \n",
    "# for mouse weight and average tumor volume for the Capomulin regimen\n",
    "\n",
    "correlation = st.pearsonr(weight,avg_tumorvol)\n",
    "print(f\"The correlation between weight and tumor volume is {round(correlation[0],2)}\")"
   ]
  },
  {
   "cell_type": "code",
   "execution_count": null,
   "metadata": {},
   "outputs": [],
   "source": [
    "from scipy.stats import linregress\n",
    "\n",
    "# Calculating line regression \n",
    "(slope, intercept, rvalue, pvalue, stderr) = linregress(weight, avg_tumorvol)\n",
    "regress_values = weight * slope + intercept\n",
    "line_eq = \"y = \" + str(round(slope,2)) + \"x + \" + str(round(intercept,2))\n",
    "\n",
    "plt.title(Title2)\n",
    "plt.xlabel(\"Weight of Mouse (g)\")\n",
    "plt.ylabel(\"Tumor Volume (mm3)\")\n",
    "plt.scatter(weight, avg_tumorvol, marker=\"o\", facecolors=\"red\", edgecolors=\"black\", alpha=0.75)\n",
    "\n",
    "plt.plot(weight, regress_values,'r-')\n",
    "plt.annotate(line_eq,(19,36),fontsize=15,color=\"red\")"
   ]
  }
 ],
 "metadata": {
  "anaconda-cloud": {},
  "kernelspec": {
   "display_name": "Python 3",
   "language": "python",
   "name": "python3"
  },
  "language_info": {
   "codemirror_mode": {
    "name": "ipython",
    "version": 3
   },
   "file_extension": ".py",
   "mimetype": "text/x-python",
   "name": "python",
   "nbconvert_exporter": "python",
   "pygments_lexer": "ipython3",
   "version": "3.8.8"
  }
 },
 "nbformat": 4,
 "nbformat_minor": 4
}
